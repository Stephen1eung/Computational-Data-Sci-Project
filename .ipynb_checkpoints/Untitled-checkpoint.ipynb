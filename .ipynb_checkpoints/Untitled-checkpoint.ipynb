{
 "cells": [
  {
   "cell_type": "code",
   "execution_count": 7,
   "id": "a0074ca4",
   "metadata": {},
   "outputs": [],
   "source": [
    "import requests\n",
    "from bs4 import BeautifulSoup\n",
    "import pandas as pd\n",
    "\n",
    "#Requesting from url\n",
    "url='https://hoopshype.com/salaries/players/'\n",
    "website=requests.get(url)\n",
    "\n",
    "#<Response [200]\n",
    "#Finding the relevant table\n",
    "text=BeautifulSoup(website.text,'html')\n",
    "table=text.find('table',{'class':'hh-salaries-ranking-table hh-salaries-table-sortable responsive'})\n",
    "\n",
    "#Identifying column name of dataframe\n",
    "colNames=['number','Player','2022','2023','2024','2025','2026','2027']\n",
    "salaryData=pd.DataFrame(columns=colNames)\n",
    "\n",
    "#Extracting relevant rows\n",
    "for i in table.find_all('tr')[1:]:\n",
    " rows=i.find_all('td')\n",
    " row = [j.text for j in rows]\n",
    " length=len(salaryData)\n",
    " salaryData.loc[length]=row\n",
    "\n",
    "#Getting rid of spaces and tabs \n",
    "salaryData.drop(['2023','2024','2025','2026','2027'],inplace=True,axis=1)\n",
    "salaryData['number']=salaryData['number'].str.extract('(\\d+)')\n",
    "salaryData['Player']=salaryData['Player'].str.extract('([a-zA-Z\\'\\-\\\" \"\\.\\,]+)')\n",
    "salaryData['2022'].replace(',','', regex=True, inplace=True)\n",
    "salaryData['2022']=salaryData['2022'].str.extract('(\\d+)')\n",
    "\n",
    "\n",
    "#Saving to csv\n",
    "#salaryData.to_csv('NBA2022Salary.csv',index=False)"
   ]
  },
  {
   "cell_type": "code",
   "execution_count": 8,
   "id": "41c5452d",
   "metadata": {},
   "outputs": [
    {
     "name": "stdout",
     "output_type": "stream",
     "text": [
      "<Response [200]>\n"
     ]
    }
   ],
   "source": [
    "print(website)"
   ]
  },
  {
   "cell_type": "code",
   "execution_count": null,
   "id": "acb9b97c",
   "metadata": {},
   "outputs": [],
   "source": []
  }
 ],
 "metadata": {
  "kernelspec": {
   "display_name": "Python 3 (ipykernel)",
   "language": "python",
   "name": "python3"
  },
  "language_info": {
   "codemirror_mode": {
    "name": "ipython",
    "version": 3
   },
   "file_extension": ".py",
   "mimetype": "text/x-python",
   "name": "python",
   "nbconvert_exporter": "python",
   "pygments_lexer": "ipython3",
   "version": "3.9.13"
  }
 },
 "nbformat": 4,
 "nbformat_minor": 5
}
